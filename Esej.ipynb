{
 "cells": [
  {
   "cell_type": "markdown",
   "metadata": {},
   "source": [
    "<h1><center> Analiza čimbenika moždanog udara</center></h1>"
   ]
  },
  {
   "cell_type": "markdown",
   "metadata": {},
   "source": [
    "<img src=\"brain2.gif\" width=\"750\" align=\"center\">"
   ]
  },
  {
   "cell_type": "markdown",
   "metadata": {},
   "source": [
    "\n",
    "## Uvod u problematiku\n",
    "Prema podacima svjetske zdrastvene organizacije, moždani udar je drugi najučestaliji uzročnik smrti, odgovoran za čak 11% svih smrtnih slučajeva čovječanstva. Ulogu za dobivanje moždanog udara igraju genetske predispozicije, no itekako značajan faktor jest upravo način života. <br> Ovaj esej posvećen je analizi i predviđanju faktora koji utječu na mogućnost dobivanja moždanog udara na osnovi podataka preuzetih s \"https://www.kaggle.com\". <br> Sadržaj eseja počinje učitavanjem i upoznavanjem s podatkovim skupom. Taj dio osmišljen je kao **interaktivni sadržaj** kako bi se čitaoc samostalnije i slobodnije upoznao s podacima. Ključni dio je analiza uzorka pacijenta koji završavamo provođenjem statističkih testova sa svrhom razvijanja modela višestruke linearne regresije. <br>\n",
    "\n",
    "## Učitavanje podataka"
   ]
  },
  {
   "cell_type": "code",
   "execution_count": 1,
   "metadata": {},
   "outputs": [],
   "source": [
    "#paketi za analizu podataka\n",
    "import pandas as pd \n",
    "import numpy as np\n",
    "\n",
    "#paketi za vizualizacije\n",
    "import seaborn as sns\n",
    "import matplotlib.pyplot as plt\n",
    "import plotly.figure_factory as ff\n",
    "import matplotlib.pyplot as plt\n",
    "\n",
    "#paket za random generiranje boja\n",
    "import random\n",
    "\n",
    "#paketi za spremanje vizualizacija\n",
    "import plotly.express as px\n",
    "import plotly.io as pio  \n",
    "pio.renderers.default='notebook'"
   ]
  },
  {
   "cell_type": "code",
   "execution_count": 2,
   "metadata": {},
   "outputs": [
    {
     "data": {
      "text/html": [
       "<div>\n",
       "<style scoped>\n",
       "    .dataframe tbody tr th:only-of-type {\n",
       "        vertical-align: middle;\n",
       "    }\n",
       "\n",
       "    .dataframe tbody tr th {\n",
       "        vertical-align: top;\n",
       "    }\n",
       "\n",
       "    .dataframe thead th {\n",
       "        text-align: right;\n",
       "    }\n",
       "</style>\n",
       "<table border=\"1\" class=\"dataframe\">\n",
       "  <thead>\n",
       "    <tr style=\"text-align: right;\">\n",
       "      <th></th>\n",
       "      <th>id</th>\n",
       "      <th>gender</th>\n",
       "      <th>age</th>\n",
       "      <th>hypertension</th>\n",
       "      <th>heart_disease</th>\n",
       "      <th>ever_married</th>\n",
       "      <th>work_type</th>\n",
       "      <th>Residence_type</th>\n",
       "      <th>avg_glucose_level</th>\n",
       "      <th>bmi</th>\n",
       "      <th>smoking_status</th>\n",
       "      <th>stroke</th>\n",
       "    </tr>\n",
       "  </thead>\n",
       "  <tbody>\n",
       "    <tr>\n",
       "      <th>0</th>\n",
       "      <td>9046</td>\n",
       "      <td>Male</td>\n",
       "      <td>67.0</td>\n",
       "      <td>0</td>\n",
       "      <td>1</td>\n",
       "      <td>Yes</td>\n",
       "      <td>Private</td>\n",
       "      <td>Urban</td>\n",
       "      <td>228.69</td>\n",
       "      <td>36.6</td>\n",
       "      <td>formerly smoked</td>\n",
       "      <td>1</td>\n",
       "    </tr>\n",
       "    <tr>\n",
       "      <th>1</th>\n",
       "      <td>51676</td>\n",
       "      <td>Female</td>\n",
       "      <td>61.0</td>\n",
       "      <td>0</td>\n",
       "      <td>0</td>\n",
       "      <td>Yes</td>\n",
       "      <td>Self-employed</td>\n",
       "      <td>Rural</td>\n",
       "      <td>202.21</td>\n",
       "      <td>NaN</td>\n",
       "      <td>never smoked</td>\n",
       "      <td>1</td>\n",
       "    </tr>\n",
       "    <tr>\n",
       "      <th>2</th>\n",
       "      <td>31112</td>\n",
       "      <td>Male</td>\n",
       "      <td>80.0</td>\n",
       "      <td>0</td>\n",
       "      <td>1</td>\n",
       "      <td>Yes</td>\n",
       "      <td>Private</td>\n",
       "      <td>Rural</td>\n",
       "      <td>105.92</td>\n",
       "      <td>32.5</td>\n",
       "      <td>never smoked</td>\n",
       "      <td>1</td>\n",
       "    </tr>\n",
       "    <tr>\n",
       "      <th>3</th>\n",
       "      <td>60182</td>\n",
       "      <td>Female</td>\n",
       "      <td>49.0</td>\n",
       "      <td>0</td>\n",
       "      <td>0</td>\n",
       "      <td>Yes</td>\n",
       "      <td>Private</td>\n",
       "      <td>Urban</td>\n",
       "      <td>171.23</td>\n",
       "      <td>34.4</td>\n",
       "      <td>smokes</td>\n",
       "      <td>1</td>\n",
       "    </tr>\n",
       "    <tr>\n",
       "      <th>4</th>\n",
       "      <td>1665</td>\n",
       "      <td>Female</td>\n",
       "      <td>79.0</td>\n",
       "      <td>1</td>\n",
       "      <td>0</td>\n",
       "      <td>Yes</td>\n",
       "      <td>Self-employed</td>\n",
       "      <td>Rural</td>\n",
       "      <td>174.12</td>\n",
       "      <td>24.0</td>\n",
       "      <td>never smoked</td>\n",
       "      <td>1</td>\n",
       "    </tr>\n",
       "  </tbody>\n",
       "</table>\n",
       "</div>"
      ],
      "text/plain": [
       "      id  gender   age  hypertension  heart_disease ever_married  \\\n",
       "0   9046    Male  67.0             0              1          Yes   \n",
       "1  51676  Female  61.0             0              0          Yes   \n",
       "2  31112    Male  80.0             0              1          Yes   \n",
       "3  60182  Female  49.0             0              0          Yes   \n",
       "4   1665  Female  79.0             1              0          Yes   \n",
       "\n",
       "       work_type Residence_type  avg_glucose_level   bmi   smoking_status  \\\n",
       "0        Private          Urban             228.69  36.6  formerly smoked   \n",
       "1  Self-employed          Rural             202.21   NaN     never smoked   \n",
       "2        Private          Rural             105.92  32.5     never smoked   \n",
       "3        Private          Urban             171.23  34.4           smokes   \n",
       "4  Self-employed          Rural             174.12  24.0     never smoked   \n",
       "\n",
       "   stroke  \n",
       "0       1  \n",
       "1       1  \n",
       "2       1  \n",
       "3       1  \n",
       "4       1  "
      ]
     },
     "execution_count": 2,
     "metadata": {},
     "output_type": "execute_result"
    }
   ],
   "source": [
    "podaci = pd.read_csv('podaci.csv', encoding='utf-8')\n",
    "podaci.head()"
   ]
  },
  {
   "cell_type": "code",
   "execution_count": 3,
   "metadata": {
    "scrolled": false
   },
   "outputs": [
    {
     "name": "stdout",
     "output_type": "stream",
     "text": [
      "(5110, 12)\n",
      "<class 'pandas.core.frame.DataFrame'>\n",
      "RangeIndex: 5110 entries, 0 to 5109\n",
      "Data columns (total 12 columns):\n",
      " #   Column             Non-Null Count  Dtype  \n",
      "---  ------             --------------  -----  \n",
      " 0   id                 5110 non-null   int64  \n",
      " 1   gender             5110 non-null   object \n",
      " 2   age                5110 non-null   float64\n",
      " 3   hypertension       5110 non-null   int64  \n",
      " 4   heart_disease      5110 non-null   int64  \n",
      " 5   ever_married       5110 non-null   object \n",
      " 6   work_type          5110 non-null   object \n",
      " 7   Residence_type     5110 non-null   object \n",
      " 8   avg_glucose_level  5110 non-null   float64\n",
      " 9   bmi                4909 non-null   float64\n",
      " 10  smoking_status     5110 non-null   object \n",
      " 11  stroke             5110 non-null   int64  \n",
      "dtypes: float64(3), int64(4), object(5)\n",
      "memory usage: 479.2+ KB\n",
      "None\n",
      "Index(['id', 'gender', 'age', 'hypertension', 'heart_disease', 'ever_married',\n",
      "       'work_type', 'Residence_type', 'avg_glucose_level', 'bmi',\n",
      "       'smoking_status', 'stroke'],\n",
      "      dtype='object')\n"
     ]
    }
   ],
   "source": [
    "print(podaci.shape)\n",
    "print(podaci.info())\n",
    "print(podaci.columns)"
   ]
  },
  {
   "cell_type": "markdown",
   "metadata": {},
   "source": [
    "Podaci se sastoje od 5110 redaka i 12 stupaca. Svaki redak predstavlja jednog pacijenta koji je jedinstveno određen svojom identifikacijskom oznakom."
   ]
  },
  {
   "cell_type": "markdown",
   "metadata": {},
   "source": [
    "### Dokumentacija"
   ]
  },
  {
   "cell_type": "markdown",
   "metadata": {},
   "source": [
    "1) **id**: jedinstvena oznaka pacijenta <br>\n",
    "2) **gender**: spol pacijenta, može biti \"Male\", \"Female\" or \"Other\" <br>\n",
    "3) **age**: starost pacijenta <br>\n",
    "4) **hypertension**: 0 ako pacijent nije imao hipertenziju(povišen krvni tlak), 1 ako jest <br>\n",
    "5) **heart_disease**: 0 ako pacijent nije imao nikakvu srčanu bolest, 1 ako jest <br>\n",
    "6) **ever_married**: da li je pacijent ikad bio u braku, može biti \"No\" or \"Yes\" <br>\n",
    "7) **work_type**: tip posla, može biti \"children\", \"Govt_jov\", \"Never_worked\", \"Private\" or \"Self-employed\" <br>\n",
    "8) **Residence_type**: mjesto stanovanja pacijenta, može biti \"Rural\" or \"Urban\" <br>\n",
    "9) **avg_glucose_level**: prosječna razina glukoze u krvi <br>\n",
    "10) **bmi**: indeks tjelesne mase <br>\n",
    "11) **smoking_status**: navike pušenja pacijenta, može biti \"formerly smoked\", \"never smoked\", \"smokes\" or \"Unknown\"* <br>\n",
    "12) **stroke**: 1 ako je pacijent imao moždani udar ili 0 ako nije <br>\n",
    "<br>\n",
    "\"Unknown\" kod smoking_status znači da je ta informacija nedostupna za pojedinog pacijenta. <br>"
   ]
  },
  {
   "cell_type": "markdown",
   "metadata": {},
   "source": [
    "### Upoznavanje s podacima"
   ]
  },
  {
   "cell_type": "markdown",
   "metadata": {},
   "source": [
    "Kod analize podataka, veliku ulogu ima vizualizacija. Upravo zato, sljedećih nekoliko ćelija u nastavku su interaktivnog karaktera i omogućuju čitaocu samostalnije i slobodnije upoznavanje s podacima. <br>\n",
    "Pokretanjem određene ćelije, čitaoc eseja dobiva uputu kakav unos se od njega očekuje te se nakon toga pojavi prozor u koji može unijeti vrijednost prema danoj uputi. <br>\n",
    "Podsjećamo čitaoca da su mogući izbori za diskretne varijable: **gender, hypertension, heart_disease, ever_married, work_type, Residence_type, smoking_status, stroke**, dok za neprekidne: **avg_glucose_level, bmi i age** <br>\n",
    "Odsad nadalje navodimo samo očekivani input. <br>\n",
    "\n",
    "*Napomena: naziv varijable unosi se točno kako je gore navedeno*. <br>"
   ]
  },
  {
   "cell_type": "code",
   "execution_count": 4,
   "metadata": {},
   "outputs": [],
   "source": [
    "discrete = {\"gender\", \"hypertension\", \"heart_disease\", \n",
    "            \"ever_married\", \"work_type\", \"Residence_type\", \"smoking_status\", \"stroke\"}\n",
    "\n",
    "numeric = {\"avg_glucose_level\", \"bmi\", \"age\"}"
   ]
  },
  {
   "cell_type": "markdown",
   "metadata": {},
   "source": [
    "#### Vrijednosti kategorijskih varijabla"
   ]
  },
  {
   "cell_type": "markdown",
   "metadata": {},
   "source": [
    "Iako smo kategorije diskretnih varijabla naveli gore, njihov ispis u obliku seta omogućujemo i ovdje zbog sistematičnijeg pregleda. <br>"
   ]
  },
  {
   "cell_type": "code",
   "execution_count": 5,
   "metadata": {},
   "outputs": [
    {
     "name": "stdout",
     "output_type": "stream",
     "text": [
      "Unesite jednu od sljedećih varijabla:\n",
      "{'smoking_status', 'stroke', 'work_type', 'hypertension', 'ever_married', 'Residence_type', 'heart_disease', 'gender'}\n",
      "d\n",
      "Vaš unos je nevažeći!\n"
     ]
    }
   ],
   "source": [
    "print(\"Unesite jednu od sljedećih varijabla:\")\n",
    "print(discrete)\n",
    "\n",
    "input_ = input()\n",
    "\n",
    "\n",
    "def categories(x_):\n",
    "    all = set(podaci[x_])\n",
    "    print(all)\n",
    "\n",
    "if input_ in discrete:\n",
    "    categories(input_)\n",
    "else: \n",
    "    print(\"Vaš unos je nevažeći!\")"
   ]
  },
  {
   "cell_type": "markdown",
   "metadata": {},
   "source": [
    "Naprimjer vidimo da razlikujemo mjesto stanovanja ovisno o tome radi li se o  ruralnom ili urbanom području. Tip posla kojim se pojedina osoba bavi djelimo na posao u vladi, samozaposlen, privatni tip posla, osoba nikad bila zaposlena ili dijete, ako je osoba maloljetna."
   ]
  },
  {
   "cell_type": "markdown",
   "metadata": {},
   "source": [
    "#### Deskriptivna statistika \n"
   ]
  },
  {
   "cell_type": "code",
   "execution_count": 6,
   "metadata": {
    "scrolled": true
   },
   "outputs": [
    {
     "name": "stdout",
     "output_type": "stream",
     "text": [
      "Unesite jednu od sljedećih varijabla:\n",
      "{'age', 'avg_glucose_level', 'bmi'}\n",
      "d\n",
      "Vaš unos je nevažeći!\n"
     ]
    }
   ],
   "source": [
    "print(\"Unesite jednu od sljedećih varijabla:\")\n",
    "print(numeric)\n",
    "\n",
    "input_ = input()\n",
    "\n",
    "def describe(x_):\n",
    "    print(podaci[[x_]].describe().iloc[[0,1,2,3,7]])\n",
    "    \n",
    "\n",
    "if input_ in numeric:\n",
    "    describe(input_)\n",
    "else: \n",
    "    print(\"Vaš unos je nevažeći!\")"
   ]
  },
  {
   "cell_type": "markdown",
   "metadata": {},
   "source": [
    "Prosječna dob uzorka jest oko 43 godine. Najstariji pacijent ima 82 godine, dok najmlađi ima manje od godinu dana. <br>\n",
    "Prema dostupnim medicinskim podacima, normalnom razinom glukoze u krvi kod ljudi smatramo interval između 70 mg/dl i 126 mg/dl. <br> Prosječna razina glukoze u krvi našeg uzorka je 106.148, što upada u \"normalni\" interval.  <br>\n",
    "Prema \"Adult BMI kalkulatoru\", osobe s BMI vrijednosti u intervalu 18.5 - 24.9 smatraju se zdrave. Prosječna vrijednost indeksa tjelesne težine našeg uzorka pacijenta je 28.893."
   ]
  },
  {
   "cell_type": "markdown",
   "metadata": {},
   "source": [
    "#### Stupčasti dijagram "
   ]
  },
  {
   "cell_type": "code",
   "execution_count": 7,
   "metadata": {
    "scrolled": false
   },
   "outputs": [
    {
     "name": "stdout",
     "output_type": "stream",
     "text": [
      "Unesite jednu od sljedećih varijabla:\n",
      "{'smoking_status', 'stroke', 'work_type', 'hypertension', 'ever_married', 'Residence_type', 'heart_disease', 'gender'}\n",
      "d\n",
      "Vaš unos je nevažeći!\n"
     ]
    }
   ],
   "source": [
    "print(\"Unesite jednu od sljedećih varijabla:\")\n",
    "print(discrete)\n",
    "\n",
    "sns.set(style=\"darkgrid\")  #pozadinska tema grafova\n",
    "\n",
    "input_=input()\n",
    "\n",
    "def draw_countplot(x_):\n",
    "    ax = sns.countplot(\n",
    "    x=x_, \n",
    "    data=podaci, \n",
    "    palette=\"light:b\",\n",
    "    );\n",
    "    for p in ax.patches:  #dodavanje brojeva na vrh grafa\n",
    "        ax.annotate('{:.0f}'.format(p.get_height()), (p.get_x()+0.1, p.get_height()+50)) \n",
    "\n",
    "if input_ in discrete:\n",
    "    draw_countplot(input_)\n",
    "else: \n",
    "    print(\"Vaš unos je nevažeći!\")"
   ]
  },
  {
   "cell_type": "markdown",
   "metadata": {},
   "source": [
    "U našem uzorku prevladavaju žene, čak njih 2994 nasprem 2115 muškaraca. Većina pacijenata nema hipertenziju, odnosno povišen tlak, nit problema sa srcem. Također, veći broj njih je nekad bio u braku. Zanimljiva je i podjela prema tipu posla. Čak njih 2925 rade privatno, dok najmanji broj njih, 22, nikad nije radio. Podjednak je broj pacijenta koji žive u gradu i na selu. Također, najveći broj je pušača, dok za 1544 pacijenta nemamo podatak o pušenju, što nas baš ne veseli. Na kraju, možda najvažniji podatak, 249 pacijenta danog uzorka imalo je moždani udar dok njih 4861 nije."
   ]
  },
  {
   "cell_type": "markdown",
   "metadata": {},
   "source": [
    "#### Graf gustoće neprekidnih varijabla"
   ]
  },
  {
   "cell_type": "code",
   "execution_count": null,
   "metadata": {},
   "outputs": [
    {
     "name": "stdout",
     "output_type": "stream",
     "text": [
      "Unesite jednu od sljedećih varijabla:\n",
      "{'age', 'avg_glucose_level', 'bmi'}\n"
     ]
    }
   ],
   "source": [
    "print(\"Unesite jednu od sljedećih varijabla:\")\n",
    "print(numeric)\n",
    "\n",
    "input_=input()\n",
    "\n",
    "def draw_distribution(x_):\n",
    "    #plt.xlim(-10,90)\n",
    "    if(x_ == 'age'):\n",
    "        plt.xlabel(\"Godine\")\n",
    "    if(x_ == 'bmi'):\n",
    "        plt.xlabel(\"Indeks tjelesne težine\")\n",
    "    if(x_ == 'avg_glucose_level'):\n",
    "        plt.xlabel(\"Prosječna razina glukoze u krvi\")\n",
    "    plt.xlim(min(podaci[x_]),max(podaci[x_]))\n",
    "    sns.kdeplot(podaci[x_])\n",
    "    plt.title('Graf gustoće', fontsize= 13)\n",
    "    plt.figure(figsize=(3, 3))\n",
    "    plt.show() \n",
    "\n",
    "\n",
    "if input_ in numeric:\n",
    "    draw_distribution(input_)\n",
    "else: \n",
    "    print(\"Vaš unos je nevažeći!\")"
   ]
  },
  {
   "cell_type": "markdown",
   "metadata": {},
   "source": [
    "Iz ovog grafa čitamo npr. vjerojatnost da slučajno odabran pacijent iz našeg uzorka ima 20 godina jest oko 0.01 %."
   ]
  },
  {
   "cell_type": "markdown",
   "metadata": {},
   "source": [
    "#### Distribucija neprekidnih varijabla zajedno s moždanim udarom"
   ]
  },
  {
   "cell_type": "code",
   "execution_count": null,
   "metadata": {
    "scrolled": false
   },
   "outputs": [],
   "source": [
    "print(\"Unesite jednu od sljedećih varijabla:\")\n",
    "print(numeric)\n",
    "\n",
    "input_ = input()\n",
    "\n",
    "def random_color():  \n",
    "    colors = set(['red', 'blue', 'green', 'yellow', 'orange', 'purple', 'brown'])\n",
    "    return(random.sample(colors, 2))\n",
    "\n",
    "def draw_distribution(x_):\n",
    "    mozdani = podaci[podaci['stroke']==1][x_].fillna(0.0).astype(float)\n",
    "    bez_mozdanog = podaci[podaci['stroke']==0][x_].fillna(0.0).astype(float)\n",
    "    fig = ff.create_distplot([mozdani, bez_mozdanog], ['Moždani','Ne moždani'], \n",
    "                             bin_size=0.78, curve_type='normal'\n",
    "                            ,colors =  [random_color()[0], random_color()[1]])\n",
    "    #naslov grafa i x os\n",
    "    fig.update_layout(\n",
    "        title=\"Distribucija moždanog udara\",\n",
    "        xaxis_title=x_,\n",
    "    )\n",
    "    fig.show() #prikaz grafa\n",
    "\n",
    "    \n",
    "if input_ in numeric:\n",
    "    draw_distribution(input_)\n",
    "else: \n",
    "    print(\"Vaš unos je navažeći!\")"
   ]
  },
  {
   "cell_type": "markdown",
   "metadata": {},
   "source": [
    "Nekoliko stvari ovdje odmah primjećujemo. Očekivano, najjasniji su rezultati godina. Naime, vrlo jasno se vidi da su starije osobe podložnije moždanom udaru. Gledajući indeks tjelesne težine, gotovo sve osobe oboljele od moždanog udara nalaze se između vrijednosti 20 i 40. Što se tiče glukoze, možemo reći da je više onih s moždanim udarom i nižom razinom glukoze u krvi."
   ]
  },
  {
   "cell_type": "markdown",
   "metadata": {},
   "source": [
    "## Analiza pojedinih faktora na moždani udar"
   ]
  },
  {
   "cell_type": "markdown",
   "metadata": {},
   "source": [
    "Sada kada smo se malo bolje upoznali s našim podacima, posvetimo se ključnom poglavlju ovog eseja.  <br> Stvar koju proučavamo jest (ne)povezanost pojedinih čimbenika s moždanim udarom. Najprije donosimo nekoliko vizualizacija kojim obično započinje svaka ozbiljnija analiza podataka. Zatim djelimo pacijente u dvije kategorije, ovisno o tome jesu li imali moždani udar ili ne."
   ]
  },
  {
   "cell_type": "code",
   "execution_count": null,
   "metadata": {
    "scrolled": false
   },
   "outputs": [],
   "source": [
    "cor = podaci.corr()\n",
    "sns.heatmap(cor, annot=True, cmap='Blues')"
   ]
  },
  {
   "cell_type": "markdown",
   "metadata": {},
   "source": [
    "Analizom veoma popularnog \"*heat map*\" vizualnog prikaza nekoliko stvari odmah možemo uočiti. Prvo je da identifikacijske oznake pacijenta nisu korelirane ni sa čim. To je potpuno očekivano i čudili bismo se da je drugačije. Taj dio označan je najsvjetlijom bojom na mapi. Dio koji ima najveću korelaciju su godine i indeks tjelesne težine, zatim su godine i povišen krvni tlak, pa godine i srčane bolesti. U svakom slučaju, godine su značajan čimbenik."
   ]
  },
  {
   "cell_type": "code",
   "execution_count": null,
   "metadata": {},
   "outputs": [],
   "source": [
    "sns.pairplot(podaci, height=2, aspect=0.7)"
   ]
  },
  {
   "cell_type": "markdown",
   "metadata": {},
   "source": [
    "Nisu nam svi parovi numeričkih varijabla u vizualnom prikazu *pairplot* jednako zanimljivi. Ono što je posebno bitno jest da vidimo da imamo više starijih pacijenata s moždanim udarom te također njihov indeks tjelesne težine ne prelazi 60. Puno više je onih pacijenta s nižom razinom indeksa tjelesne težine i nižom razinom prosječne razine glukoze u krvi."
   ]
  },
  {
   "cell_type": "markdown",
   "metadata": {},
   "source": [
    "#### Podjela pacijenta ovisno o tome jesu li imali moždani udar ili ne"
   ]
  },
  {
   "cell_type": "code",
   "execution_count": null,
   "metadata": {
    "scrolled": true
   },
   "outputs": [],
   "source": [
    "pacients_stroke=podaci[podaci['stroke']==1]  \n",
    "pacients_no_stroke=podaci[podaci['stroke']==0]  "
   ]
  },
  {
   "cell_type": "markdown",
   "metadata": {},
   "source": [
    "#### Prosječna dob pacijenta koji su imali moždani udar nasprem onih kojih nisu"
   ]
  },
  {
   "cell_type": "code",
   "execution_count": null,
   "metadata": {},
   "outputs": [],
   "source": [
    "groups_age=podaci.groupby('stroke')['age'].mean().reset_index()\n",
    "fig = px.bar(groups_age, \n",
    "             y=\"age\", \n",
    "             x=\"stroke\",\n",
    "             width=500, \n",
    "             height=500,\n",
    "             color='stroke', \n",
    "             log_y=False)\n",
    "\n",
    "fig.show()"
   ]
  },
  {
   "cell_type": "markdown",
   "metadata": {},
   "source": [
    "Na ovom stupčastom dijagramu uočavamo stvar koju smo već zaključili već i ranije. Prosječna dob pacijenta koji su imali moždani udar je **veća** od onih koji nisu imali moždani. "
   ]
  },
  {
   "cell_type": "markdown",
   "metadata": {},
   "source": [
    "#### Mjesto stanovanja pacijenta koji su imali moždani udar "
   ]
  },
  {
   "cell_type": "code",
   "execution_count": null,
   "metadata": {
    "scrolled": false
   },
   "outputs": [],
   "source": [
    "groups_residence=pacients_stroke['Residence_type'].value_counts().reset_index()\n",
    "\n",
    "fig = px.pie(groups_residence,\n",
    "             height=400,\n",
    "             width=400,\n",
    "             values=\"Residence_type\", \n",
    "             names=\"index\",\n",
    "             color='index',\n",
    "             color_discrete_map={'Urban':'darkmagenta',\n",
    "                                 'Rural':'magenta',\n",
    "                                 })\n",
    "\n",
    "fig.update_traces(pull=0.03)\n",
    "fig.show()"
   ]
  },
  {
   "cell_type": "markdown",
   "metadata": {},
   "source": [
    "Gledajući samo one pacijente koji su imali moždani udar, vidimo da je više onih koje dolaze sa urbanog područja, no razlika nije prevelika stoga za ovaj faktor možemo reći da nije značajan."
   ]
  },
  {
   "cell_type": "markdown",
   "metadata": {},
   "source": [
    "#### Tip posla pacijenta koji su imali moždani udar"
   ]
  },
  {
   "cell_type": "code",
   "execution_count": null,
   "metadata": {},
   "outputs": [],
   "source": [
    "groups_work=pacients_stroke['work_type'].value_counts().reset_index()\n",
    "\n",
    "fig = px.pie(groups_work, \n",
    "             height=500,\n",
    "             width=500,\n",
    "             values=\"work_type\", \n",
    "             names=\"index\",\n",
    "             color='index',\n",
    "             color_discrete_map={'children':'lightcyan',\n",
    "                                 'Govt_job':'cyan',\n",
    "                                 'Private':'royalblue',\n",
    "                                 'Self-employed':'darkblue'})\n",
    "\n",
    "fig.update_traces(pull=0.05)\n",
    "fig.show()"
   ]
  },
  {
   "cell_type": "markdown",
   "metadata": {},
   "source": [
    "Jasno se vidi da više od pola ukupnog broja pacijenta oboljelih od moždanog udara su oni koji rade privatno."
   ]
  },
  {
   "cell_type": "markdown",
   "metadata": {},
   "source": [
    "#### Kategorizacija indeksa tjelesne težine\n",
    "Kategorije za indeks tjelesne težine određene su prema [Adult BMI kalkulatoru](https://www.cdc.gov/healthyweight/assessing/bmi/adult_bmi/index.html)."
   ]
  },
  {
   "cell_type": "code",
   "execution_count": null,
   "metadata": {},
   "outputs": [],
   "source": [
    "def bmi_category(x_):\n",
    "    if x_<18.5:\n",
    "        return 'Underweight'\n",
    "    elif 18.5<=x_<24.9:\n",
    "        return 'Normal'\n",
    "    elif 24.9<=x_<29.9:\n",
    "        return 'Overweight'\n",
    "    elif 29.9<x_:\n",
    "        return 'Obese'\n",
    "    else:\n",
    "        return 'None'\n",
    "    \n",
    "podaci['bmi_category']=podaci['bmi'].apply(bmi_category)\n",
    "podaci.groupby('bmi_category').stroke.value_counts()"
   ]
  },
  {
   "cell_type": "markdown",
   "metadata": {},
   "source": [
    "Ovdje vidimo omjer pacijenta koji su imali moždani udar i onih koji nisu posebno po **kategorijama indeksa tjelesne težine**. Onih koji su imali moždani udar je najviše u kategoriji *Obese*, čak njih 98, dok ih je najmanje u kategoriji *Underweight*, tek jedan pacijent."
   ]
  },
  {
   "cell_type": "code",
   "execution_count": null,
   "metadata": {
    "scrolled": true
   },
   "outputs": [],
   "source": [
    "sns.boxplot(x='bmi_category',y='bmi',data=podaci, palette='Blues')"
   ]
  },
  {
   "cell_type": "markdown",
   "metadata": {},
   "source": [
    "Za svaku kategoriju zasebno vizualno prikazujemo i kutijasti dijagram, popularniji kao *Box Plot*. U kategoriji *Obese* uočavamo da imamo puno *outliersa*, podataka koji se značajno razlikuju od ostalih opaženih vrijednosti, stoga ovakva podjela na kategorije nije poželjna jer već smo se na početku uvjerili da u našem uzorku prevladavaju pacijenti koji imaju problema s težinom. Kasnije, statističkim testom formalno pokazujemo da vrijednost varijable indeksa tjelesne težine našeg uzorka pacijenta **nije** normalno distribuirana, dok u stvarnoj populaciji jest."
   ]
  },
  {
   "cell_type": "code",
   "execution_count": null,
   "metadata": {},
   "outputs": [],
   "source": [
    "podaci.drop(['bmi_category'],axis=1,inplace=True) "
   ]
  },
  {
   "cell_type": "markdown",
   "metadata": {},
   "source": [
    "#### Navike pušenja pacijenta koji su imali moždani udar"
   ]
  },
  {
   "cell_type": "code",
   "execution_count": null,
   "metadata": {
    "scrolled": false
   },
   "outputs": [],
   "source": [
    "groups_smoke=pacients_stroke['smoking_status'].value_counts().reset_index()\n",
    "\n",
    "fig = px.pie(groups_smoke,\n",
    "             height=500,\n",
    "             width=500,\n",
    "             values=\"smoking_status\", \n",
    "             names=\"index\",\n",
    "             color='index',\n",
    "             color_discrete_map={'never smoked':'yellow',\n",
    "                                 'smokes':'darkyellow',\n",
    "                                 'formerly smoked':'lightyellow',\n",
    "                                 'smokes':'darkblue'})\n",
    "\n",
    "fig.update_traces(pull=0.05)\n",
    "fig.show()"
   ]
  },
  {
   "cell_type": "markdown",
   "metadata": {},
   "source": [
    "Od svih pacijenta koji su imali moždani udar, najviše ima onih koji nikad nisu pušili, što je pomalo začuđujuće. Popriličan je postotak onih za koje neznamo njihove navike po pitanju pušenja, stoga ovaj čimbenik zanemarujemo."
   ]
  },
  {
   "cell_type": "markdown",
   "metadata": {},
   "source": [
    "## Provođenje statističkih testova"
   ]
  },
  {
   "cell_type": "markdown",
   "metadata": {},
   "source": [
    "### Testiranje normalnosti uzorka\n",
    "\n",
    "Za neprekidne varijable provodimo najpoznatije testove pripadnosti normalnoj distribuciji. U svakom testu koristimo razinu značajnosti od 5 %."
   ]
  },
  {
   "cell_type": "markdown",
   "metadata": {},
   "source": [
    "#### Shapiro-Wilk test za ispitivanje normalne distribucije neprekidne varijable \"age\"\n",
    "`Pretpostavke` <br>\n",
    "Uzorci su nezavisni i jednako distribuirani. <br>\n",
    "<br>\n",
    "`Hipoteze`  <br>\n",
    "$H_0$ = uzorak je normalno distribuiran. <br>\n",
    "$H_1$ = uzorak nije normalno distribuiran."
   ]
  },
  {
   "cell_type": "code",
   "execution_count": null,
   "metadata": {},
   "outputs": [],
   "source": [
    "from scipy.stats import shapiro\n",
    "\n",
    "stat, p = shapiro(podaci['age'])\n",
    "print('stat=%.5f, p=%.5f' % (stat, p))\n",
    "\n",
    "if p > 0.05:\n",
    "    print('Uzorak je normalno distribuiran.')\n",
    "else:\n",
    "    print('Uzorak nije normalno distribuiran.')"
   ]
  },
  {
   "cell_type": "markdown",
   "metadata": {},
   "source": [
    "#### D’Agostino’s  test za ispitivanje normalne distribucije neprekidne varijable \"avg_glucose_level\"\n",
    "`Pretpostavke` <br>\n",
    "Uzorci su nezavisni i jednako distribuirani. <br>\n",
    "<br>\n",
    "`Hipoteze`  <br>\n",
    "$H_0$ = uzorak je normalno distribuiran. <br>\n",
    "$H_1$ = uzorak nije normalno distribuiran."
   ]
  },
  {
   "cell_type": "code",
   "execution_count": null,
   "metadata": {},
   "outputs": [],
   "source": [
    "from scipy.stats import normaltest\n",
    "\n",
    "stat, p = normaltest(podaci['avg_glucose_level'])\n",
    "print('stat=%.5f, p=%.5f' % (stat, p))\n",
    "\n",
    "if p > 0.05:\n",
    "    print('Uzorak je normalno distribuiran.')\n",
    "else:\n",
    "    print('Uzorak nije normalno distribuiran.')"
   ]
  },
  {
   "cell_type": "markdown",
   "metadata": {},
   "source": [
    "#### Anderson-Darling  test za ispitivanje normalne distribucije neprekidne varijable \"bmi\"\n",
    "`Pretpostavke` <br>\n",
    "Uzorci su nezavisni i jednako distribuirani. <br>\n",
    "<br>\n",
    "`Hipoteze`  <br>\n",
    "$H_0$ = uzorak je normalno distribuiran. <br>\n",
    "$H_1$ = uzorak nije normalno distribuiran."
   ]
  },
  {
   "cell_type": "code",
   "execution_count": null,
   "metadata": {},
   "outputs": [],
   "source": [
    "from scipy.stats import anderson\n",
    "\n",
    "result = anderson(podaci['bmi'].fillna(0))\n",
    "\n",
    "print('stat=%.3f' % (result.statistic))\n",
    "for i in range(len(result.critical_values)):\n",
    "    sl, cv = result.significance_level[i], result.critical_values[i]\n",
    "    if result.statistic < cv:\n",
    "        print('Uzorak je normalno distribuiran na razini značajnosti %.1f%%.' % (sl))\n",
    "    else:\n",
    "        print('Uzorak nije normalno distribuiran na razini značajnosti %.1f%%.' % (sl))"
   ]
  },
  {
   "cell_type": "markdown",
   "metadata": {},
   "source": [
    "Budući da niti jedna neprekidna varijabla našeg uzorka nije normalno distribuirana, ovo nas dosta ograničana u korištenju samih statističkih testova. Zato ćemo koristiti one koji nisu \"osjetljivi\" na normalnost podataka."
   ]
  },
  {
   "cell_type": "markdown",
   "metadata": {},
   "source": [
    "### Testovi koreliranosti kategorijskih varijabla"
   ]
  },
  {
   "cell_type": "markdown",
   "metadata": {},
   "source": [
    "Kako bismo proveli testove koreliranosti kategorijskih varijabla, potrebno je vrijednosti stupaca tipa *string* konvertirati u vrijednosti tipa *int*. "
   ]
  },
  {
   "cell_type": "code",
   "execution_count": null,
   "metadata": {},
   "outputs": [],
   "source": [
    "podaci['gender'] = pd.factorize(podaci.gender)[0]\n",
    "podaci['ever_married'] = pd.factorize(podaci.ever_married)[0]\n",
    "podaci['work_type'] = pd.factorize(podaci.work_type)[0]\n",
    "podaci['Residence_type'] = pd.factorize(podaci.Residence_type)[0]\n",
    "podaci['smoking_status'] = pd.factorize(podaci.smoking_status)[0]\n",
    "\n",
    "podaci.head()"
   ]
  },
  {
   "cell_type": "markdown",
   "metadata": {},
   "source": [
    "#### $\\chi^2$ test za ispitivanje nezavisnot varijabla \"hypertension\" i \"heart_disease\"\n",
    "`Pretpostavke` <br>\n",
    "Opservacije iz kontigencijskih tablica su nezavisne. <br>\n",
    "Za svaku vrijednost kategorijske varijable imamo barem 25 opservacija.<br>\n",
    "`Hipoteze`  <br>\n",
    "$H_0$ = uzorci su nezavisni <br>\n",
    "$H_1$ = postoji zavisnost između uzorka\n"
   ]
  },
  {
   "cell_type": "code",
   "execution_count": null,
   "metadata": {},
   "outputs": [],
   "source": [
    "pd.crosstab(podaci['hypertension'],podaci['heart_disease']) #kontigencijska tablica"
   ]
  },
  {
   "cell_type": "code",
   "execution_count": null,
   "metadata": {},
   "outputs": [],
   "source": [
    "from scipy.stats import chi2_contingency\n",
    "\n",
    "stat, p, dof, expected = chi2_contingency(pd.crosstab(podaci['hypertension'],podaci['heart_disease']))\n",
    "print('stat=%.5f, p=%.5f' % (stat, p))\n",
    "if p > 0.05:\n",
    "    print('Uzorci su nezavisni.')\n",
    "else:\n",
    "    print('Uzorci su zavisni.')"
   ]
  },
  {
   "cell_type": "markdown",
   "metadata": {},
   "source": [
    "Dakle, na razini značajnosti od 5% možemo reći da **postoji** zavisnosti između povišenog krvnog tlaka i problema sa srcem za pacijente našeg uzorka."
   ]
  },
  {
   "cell_type": "markdown",
   "metadata": {},
   "source": [
    "## Zaključak analize podataka\n",
    "\n",
    "Nakon svih ovih vizualizacija, možemo reći da neki faktori imaju veći utjecaj od drugih pri predviđanju moždanog udara. Konkretno, zaključujemo da su to: **godine, indeks tjelesne težine, prosječna razine glukoze u krvi, problemi sa srcem i povišen krvni tlak**. Faktori poput bračnog statatusa, tipa posla i mjesta stanovanja vjerojatno nisu toliko direktno povezani s moždanim udarom. Na temelju izdvojenih čimbenika, koji imaju smisla i s medicinske strane, razvijamo model s mogućnošću predviđanju dobivanja moždanog udara. Također, mičemo stupac u kojem se nalaze identifikacijske oznake pacijenta jer za potrebe ovog eseja on nam nije od prevelike važnosti."
   ]
  },
  {
   "cell_type": "code",
   "execution_count": null,
   "metadata": {},
   "outputs": [],
   "source": [
    "podaci.drop(['id', 'gender','work_type','ever_married','Residence_type','smoking_status'],axis=1,inplace=True) "
   ]
  },
  {
   "cell_type": "markdown",
   "metadata": {},
   "source": [
    "## Višestruka linearna regresija"
   ]
  },
  {
   "cell_type": "markdown",
   "metadata": {},
   "source": [
    "### Priprema podataka za razvijanje modela\n",
    "\n",
    "Iako je zapravo početni oblik podataka poprilično zadovoljavajuć, potrebno je napraviti sitnije modifikacije kako bismo pristupili samom problemu razvijanja modela. Slično kao što smo već kod provođenja statističkih testova morali vrijednosti tipa *string* zamjeniti s brojevima."
   ]
  },
  {
   "cell_type": "code",
   "execution_count": null,
   "metadata": {},
   "outputs": [],
   "source": [
    "podaci.head()"
   ]
  },
  {
   "cell_type": "code",
   "execution_count": null,
   "metadata": {
    "scrolled": true
   },
   "outputs": [],
   "source": [
    "podaci.isnull().sum()"
   ]
  },
  {
   "cell_type": "code",
   "execution_count": null,
   "metadata": {
    "scrolled": false
   },
   "outputs": [],
   "source": [
    "sns.heatmap(podaci.isnull(),cmap='Blues')"
   ]
  },
  {
   "cell_type": "markdown",
   "metadata": {},
   "source": [
    "### Simulacija nedostajućih vrijednosti za indeks tjelesne težine"
   ]
  },
  {
   "cell_type": "markdown",
   "metadata": {},
   "source": [
    "Vidimo da imamo 201 nedostajuću vrijednost za indeks tjelesne težine. Postoji nekoliko načina na koji ovo možemo riješiti. Najjednostavniji je da uklonimo te opservacije. Međutim, to nije baš poželjan način jer moguće da te opservacija svejedno sadrže neke bitne informacije za druge varijable. Onaj malo zahtjevniji i češći način u ovakvim situacijama jest da, koristeći neke atraktivne metode ili algoritme, vrijednosti tipa *NaN* zamjenimo nečim drugim. <br> U ovom eseju, koristimo tzv. **Multiple Imputation by Chained Equations** algoritam. Ovaj algoritam, svaki stupac u kojem se nalaze neke *NaN* vrijednosti gleda kao zavisnu varijablu linearne regresije koju razvija na postojećim podacima. Nakon toga, koristeći model koji je razvio, jednostavno za svaku *NaN* vrijednost predviđa vrijednost zavisne varijable."
   ]
  },
  {
   "cell_type": "code",
   "execution_count": null,
   "metadata": {
    "scrolled": true
   },
   "outputs": [],
   "source": [
    "from fancyimpute import IterativeImputer as MICE\n",
    "\n",
    "MICE().fit_transform(podaci)\n",
    "\n",
    "podaci=pd.DataFrame(data=MICE().fit_transform(podaci), columns=podaci.columns, index=podaci.index)"
   ]
  },
  {
   "cell_type": "code",
   "execution_count": null,
   "metadata": {},
   "outputs": [],
   "source": [
    "podaci.head()"
   ]
  },
  {
   "cell_type": "code",
   "execution_count": null,
   "metadata": {},
   "outputs": [],
   "source": [
    "sns.heatmap(podaci.isnull(),cmap='Blues')"
   ]
  },
  {
   "cell_type": "markdown",
   "metadata": {},
   "source": [
    "MICE algoritmom riješili smo se *NaN* vrijednosti. Inače, algoritam ima veliku primjenu i često se koristi u praksi jer koristi cijeli podatkovni set, što je puno bolje i poželjnije, a ne samo određene stupce, kao što to čini *mean* metoda. <br> Sada je sve spremno za razvijanje modela višestruke linearne regresije."
   ]
  },
  {
   "cell_type": "markdown",
   "metadata": {},
   "source": [
    "## Prediktivne metode\n",
    "Dakle, naša zavisna varijabla čiju vrijednost nastojimo predvidjeti jest \"stroke\", odnosno da li je pacijent imao moždani udar. Ostale varijable koje uzimamo su godine, indeks tjelesne težine, prosječna razina glukoze u krvi i srčane bolesti."
   ]
  },
  {
   "cell_type": "code",
   "execution_count": null,
   "metadata": {},
   "outputs": [],
   "source": [
    "X = podaci[['age', 'bmi', 'avg_glucose_level', 'hypertension', 'heart_disease']]  \n",
    "y = podaci['stroke']  "
   ]
  },
  {
   "cell_type": "markdown",
   "metadata": {},
   "source": [
    "Djelimo podatke u dobro poznati **80:20** omjer. <br> 80% svih podataka koristimo za treniranje modela, dok preostalih 20% posvećujemo testiranju i analizi točnosti modela."
   ]
  },
  {
   "cell_type": "code",
   "execution_count": null,
   "metadata": {},
   "outputs": [],
   "source": [
    "from sklearn.model_selection import train_test_split\n",
    "\n",
    "x_train, x_test, y_train, y_test = train_test_split(X, y, test_size=0.2,stratify=y) #ovo mozda jos nacrtati"
   ]
  },
  {
   "cell_type": "markdown",
   "metadata": {},
   "source": [
    "### Logistička regresija\n",
    "\n",
    "Logistička regresija je zapravo verzija linearne regresije u kojoj je zavisna varijabla isključivo dihotomna, tj. može poprimiti binarne vrijednosti 0 ili 1, što je upravo slučaj s varijablom \"stroke\". Najmanje jedna nezavisna varijabla je numerička kontinuirana, ostale mogu biti i kategorijske varijable. <br> "
   ]
  },
  {
   "cell_type": "code",
   "execution_count": null,
   "metadata": {},
   "outputs": [],
   "source": [
    "from sklearn.linear_model import LogisticRegression\n",
    "from sklearn.metrics import accuracy_score\n",
    "\n",
    "logistic_model = LogisticRegression()\n",
    "logistic_model.fit(x_train, y_train)\n",
    "y_pred = logistic_model.predict(x_test)\n",
    "score = accuracy_score(y_test, y_pred)\n",
    "score"
   ]
  },
  {
   "cell_type": "markdown",
   "metadata": {},
   "source": [
    "Vidimo da je točnost modela jednaka 0.95 što je poprilično zadovoljavajuće. Znači da naš model s točnošću od 95.2 % pogađa hoćete li pacijent dobiti moždani udar ili ne."
   ]
  },
  {
   "cell_type": "markdown",
   "metadata": {},
   "source": [
    "### Predviđanje dobivanje moždanog udara za čitaoca eseja"
   ]
  },
  {
   "cell_type": "markdown",
   "metadata": {},
   "source": [
    "Na kraju, definiramo klasu tipa `pacijent` koja pamti godine, indeks tjelesne težine, prosječnu razinu glukoze u krvi, povišen krvi tlak i srčane bolesti za pojedinog pacijenta."
   ]
  },
  {
   "cell_type": "code",
   "execution_count": null,
   "metadata": {},
   "outputs": [],
   "source": [
    "class patient:\n",
    "    age = 0\n",
    "    bmi=0\n",
    "    glucose_level=0\n",
    "    hypertension=0\n",
    "    heart_disease=0  "
   ]
  },
  {
   "cell_type": "markdown",
   "metadata": {},
   "source": [
    "Koristeći razvijeni model i definiranu klasu, kao finalni zaključak ovog eseja, čitaocu donosimo interaktivnu ćeliju u kojoj može ispitati kolike su šanse za dobivanje moždanog udara."
   ]
  },
  {
   "cell_type": "code",
   "execution_count": null,
   "metadata": {},
   "outputs": [],
   "source": [
    "new_patient = patient()\n",
    "\n",
    "print(\"Koliko imate godina?\")\n",
    "new_patient.age=input()\n",
    "\n",
    "print(\"Koliko iznosi Vaš indeks tjelesne težine?\")\n",
    "new_patient.bmi=input()\n",
    "\n",
    "print(\"Kolika je vrijednost Vaše prosječne razine glukoze u krvi?\")\n",
    "new_patient.glucose_level=input()\n",
    "\n",
    "print(\"Ukoliko imate problema s povišenim krvim tlakom unesite 1, inače 0.\")\n",
    "new_patient.hypertension=input()\n",
    "\n",
    "print(\"Ukoliko imate problema sa srcem unesite 1, inače 0.\")\n",
    "new_patient.heart_disease=input()\n",
    "\n",
    "result = logistic_model.predict([[int(new_patient.age),\n",
    "                                     int(new_patient.bmi),\n",
    "                                     int(new_patient.glucose_level),\n",
    "                                     int(new_patient.hypertension),\n",
    "                                     int(new_patient.heart_disease)]])\n",
    "if(result == 0):\n",
    "    print('Možete biti 95.2% sigurni da nećete dobiti moždani udar!')\n",
    "else:\n",
    "    print('Nažalost, postoji 95.2% šansi da ćete dobiti moždani udar!')"
   ]
  },
  {
   "cell_type": "code",
   "execution_count": null,
   "metadata": {},
   "outputs": [],
   "source": [
    "%%js\n",
    "alert('Hvala na izvojenom vremenu za čitanje ovog eseja! :)')"
   ]
  },
  {
   "cell_type": "markdown",
   "metadata": {},
   "source": [
    "### Literatura\n",
    "https://www.w3schools.com/python/python_ml_train_test.asp <br>\n",
    "https://seaborn.pydata.org<br>\n",
    "https://machinelearningmastery.com/statistical-hypothesis-tests-in-python-cheat-sheet/ <br>\n",
    "https://medlineplus.gov/ency/patientinstructions/000966.htm <br>\n",
    "https://towardsdatascience.com/whats-the-best-way-to-handle-nan-values-62d50f738fc <br>\n",
    "https://towardsdatascience.com/data-cleaning-with-python-and-pandas-detecting-missing-values-3e9c6ebcf78b <br>\n",
    "https://www.kaggle.com/fedesoriano/stroke-prediction-dataset <br>\n",
    "https://www.cdc.gov/healthyweight/assessing/bmi/adult_bmi/index.html <br>\n",
    "https://towardsdatascience.com/statistical-significance-with-the-help-of-python-1fbb318ce216#_=_ <br>\n",
    "https://scitechdaily.com/jet-fuel-on-the-evolution-of-the-brain-hunting-in-savanna-like-goldilocks-landscapes-may-have-lead-to-higher-intelligence/ <br>"
   ]
  }
 ],
 "metadata": {
  "kernelspec": {
   "display_name": "Python 3",
   "language": "python",
   "name": "python3"
  },
  "language_info": {
   "codemirror_mode": {
    "name": "ipython",
    "version": 3
   },
   "file_extension": ".py",
   "mimetype": "text/x-python",
   "name": "python",
   "nbconvert_exporter": "python",
   "pygments_lexer": "ipython3",
   "version": "3.8.5"
  }
 },
 "nbformat": 4,
 "nbformat_minor": 4
}
